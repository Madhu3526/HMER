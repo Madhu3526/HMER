{
 "cells": [
  {
   "cell_type": "code",
   "execution_count": 11,
   "id": "22189f50",
   "metadata": {},
   "outputs": [],
   "source": [
    "import os\n",
    "import xml.etree.ElementTree as ET\n",
    "import matplotlib.pyplot as plt\n",
    "from PIL import Image\n",
    "import numpy as np\n",
    "from tqdm import tqdm\n",
    "\n",
    "def inkml_to_image(inkml_file, img_size=128, line_width=3):\n",
    "    tree = ET.parse(inkml_file)\n",
    "    root = tree.getroot()\n",
    "\n",
    "    # Extract traces (each stroke is a list of x,y points)\n",
    "    ns = {'ink': 'http://www.w3.org/2003/InkML'}\n",
    "    traces = []\n",
    "    for trace in root.findall('ink:trace', ns):\n",
    "        coords = trace.text.strip().split(',')\n",
    "        stroke = []\n",
    "        for c in coords:\n",
    "            points = c.strip().split(' ')\n",
    "            if len(points) >= 2:\n",
    "                x, y = map(float, points[:2])\n",
    "                stroke.append((x, -y))  # flip y\n",
    "        traces.append(stroke)\n",
    "\n",
    "    # Render strokes into an image\n",
    "    fig, ax = plt.subplots(figsize=(1,1), dpi=img_size)\n",
    "    ax.axis(\"off\")\n",
    "    for stroke in traces:\n",
    "        if len(stroke) > 1:\n",
    "            xs, ys = zip(*stroke)\n",
    "            ax.plot(xs, ys, linewidth=line_width, color=\"black\")\n",
    "    fig.canvas.draw()\n",
    "\n",
    "    img = np.frombuffer(fig.canvas.tostring_rgb(), dtype=np.uint8)\n",
    "    img = img.reshape(fig.canvas.get_width_height()[::-1] + (3,))\n",
    "    plt.close(fig)\n",
    "    return Image.fromarray(img).convert(\"L\")\n"
   ]
  },
  {
   "cell_type": "code",
   "execution_count": 12,
   "id": "be964ac6",
   "metadata": {},
   "outputs": [],
   "source": [
    "def get_latex_label(inkml_file):\n",
    "    tree = ET.parse(inkml_file)\n",
    "    root = tree.getroot()\n",
    "    for ann in root.findall('annotation'):\n",
    "        if ann.attrib.get('type') == 'normalizedLabel':\n",
    "            return ann.text\n",
    "    return None\n"
   ]
  },
  {
   "cell_type": "code",
   "execution_count": 13,
   "id": "d92a2cf7",
   "metadata": {},
   "outputs": [],
   "source": [
    "import csv\n",
    "\n",
    "def preprocess_split(input_dir, output_dir, split_name, limit=None):\n",
    "    os.makedirs(output_dir, exist_ok=True)\n",
    "    csv_path = os.path.join(output_dir, f\"{split_name}_labels.csv\")\n",
    "\n",
    "    inkml_files = [f for f in os.listdir(input_dir) if f.endswith(\".inkml\")]\n",
    "    if limit:\n",
    "        inkml_files = inkml_files[:limit]\n",
    "\n",
    "    with open(csv_path, \"w\", newline=\"\", encoding=\"utf-8\") as csvfile:\n",
    "        writer = csv.writer(csvfile)\n",
    "        writer.writerow([\"image\", \"label\"])\n",
    "\n",
    "        for i, fname in enumerate(tqdm(inkml_files, desc=f\"Processing {split_name}\")):\n",
    "            inkml_path = os.path.join(input_dir, fname)\n",
    "            label = get_latex_label(inkml_path)\n",
    "            if label is None:\n",
    "                continue\n",
    "\n",
    "            img = inkml_to_image(inkml_path, img_size=128)\n",
    "            img_name = f\"{split_name}_{i}.png\"\n",
    "            img_path = os.path.join(output_dir, img_name)\n",
    "            img.save(img_path)\n",
    "\n",
    "            writer.writerow([img_name, label])\n",
    "\n",
    "    print(f\"✅ {split_name} done → {len(inkml_files)} samples saved in {output_dir}\")\n"
   ]
  },
  {
   "cell_type": "code",
   "execution_count": 14,
   "id": "39c9df78",
   "metadata": {},
   "outputs": [
    {
     "name": "stderr",
     "output_type": "stream",
     "text": [
      "Processing train: 100%|██████████| 500/500 [00:12<00:00, 40.74it/s]\n"
     ]
    },
    {
     "name": "stdout",
     "output_type": "stream",
     "text": [
      "✅ train done → 500 samples saved in processed_mathwriting\n"
     ]
    },
    {
     "name": "stderr",
     "output_type": "stream",
     "text": [
      "Processing valid: 100%|██████████| 100/100 [00:02<00:00, 42.50it/s]\n"
     ]
    },
    {
     "name": "stdout",
     "output_type": "stream",
     "text": [
      "✅ valid done → 100 samples saved in processed_mathwriting\n"
     ]
    },
    {
     "name": "stderr",
     "output_type": "stream",
     "text": [
      "Processing test: 100%|██████████| 100/100 [00:02<00:00, 41.46it/s]"
     ]
    },
    {
     "name": "stdout",
     "output_type": "stream",
     "text": [
      "✅ test done → 100 samples saved in processed_mathwriting\n"
     ]
    },
    {
     "name": "stderr",
     "output_type": "stream",
     "text": [
      "\n"
     ]
    }
   ],
   "source": [
    "DATASET_ROOT = \"mathwriting-2024\"\n",
    "OUTPUT_ROOT = \"processed_mathwriting\"\n",
    "\n",
    "# Preprocess subsets (limit=500 for quick test, remove later)\n",
    "preprocess_split(os.path.join(DATASET_ROOT, \"train\"), OUTPUT_ROOT, \"train\", limit=500)\n",
    "preprocess_split(os.path.join(DATASET_ROOT, \"valid\"), OUTPUT_ROOT, \"valid\", limit=100)\n",
    "preprocess_split(os.path.join(DATASET_ROOT, \"test\"), OUTPUT_ROOT, \"test\", limit=100)\n"
   ]
  },
  {
   "cell_type": "code",
   "execution_count": 2,
   "id": "b3bd4758",
   "metadata": {},
   "outputs": [
    {
     "name": "stdout",
     "output_type": "stream",
     "text": [
      "Input shape: (229864, 200, 3)\n",
      "Output shape: (229864, 10)\n"
     ]
    },
    {
     "data": {
      "text/html": [
       "<pre style=\"white-space:pre;overflow-x:auto;line-height:normal;font-family:Menlo,'DejaVu Sans Mono',consolas,'Courier New',monospace\"><span style=\"font-weight: bold\">Model: \"functional\"</span>\n",
       "</pre>\n"
      ],
      "text/plain": [
       "\u001b[1mModel: \"functional\"\u001b[0m\n"
      ]
     },
     "metadata": {},
     "output_type": "display_data"
    },
    {
     "data": {
      "text/html": [
       "<pre style=\"white-space:pre;overflow-x:auto;line-height:normal;font-family:Menlo,'DejaVu Sans Mono',consolas,'Courier New',monospace\">┏━━━━━━━━━━━━━━━━━━━━━┳━━━━━━━━━━━━━━━━━━━┳━━━━━━━━━━━━┳━━━━━━━━━━━━━━━━━━━┓\n",
       "┃<span style=\"font-weight: bold\"> Layer (type)        </span>┃<span style=\"font-weight: bold\"> Output Shape      </span>┃<span style=\"font-weight: bold\">    Param # </span>┃<span style=\"font-weight: bold\"> Connected to      </span>┃\n",
       "┡━━━━━━━━━━━━━━━━━━━━━╇━━━━━━━━━━━━━━━━━━━╇━━━━━━━━━━━━╇━━━━━━━━━━━━━━━━━━━┩\n",
       "│ input_layer         │ (<span style=\"color: #00d7ff; text-decoration-color: #00d7ff\">None</span>, <span style=\"color: #00af00; text-decoration-color: #00af00\">200</span>, <span style=\"color: #00af00; text-decoration-color: #00af00\">3</span>)    │          <span style=\"color: #00af00; text-decoration-color: #00af00\">0</span> │ -                 │\n",
       "│ (<span style=\"color: #0087ff; text-decoration-color: #0087ff\">InputLayer</span>)        │                   │            │                   │\n",
       "├─────────────────────┼───────────────────┼────────────┼───────────────────┤\n",
       "│ not_equal           │ (<span style=\"color: #00d7ff; text-decoration-color: #00d7ff\">None</span>, <span style=\"color: #00af00; text-decoration-color: #00af00\">200</span>, <span style=\"color: #00af00; text-decoration-color: #00af00\">3</span>)    │          <span style=\"color: #00af00; text-decoration-color: #00af00\">0</span> │ input_layer[<span style=\"color: #00af00; text-decoration-color: #00af00\">0</span>][<span style=\"color: #00af00; text-decoration-color: #00af00\">0</span>] │\n",
       "│ (<span style=\"color: #0087ff; text-decoration-color: #0087ff\">NotEqual</span>)          │                   │            │                   │\n",
       "├─────────────────────┼───────────────────┼────────────┼───────────────────┤\n",
       "│ masking (<span style=\"color: #0087ff; text-decoration-color: #0087ff\">Masking</span>)   │ (<span style=\"color: #00d7ff; text-decoration-color: #00d7ff\">None</span>, <span style=\"color: #00af00; text-decoration-color: #00af00\">200</span>, <span style=\"color: #00af00; text-decoration-color: #00af00\">3</span>)    │          <span style=\"color: #00af00; text-decoration-color: #00af00\">0</span> │ input_layer[<span style=\"color: #00af00; text-decoration-color: #00af00\">0</span>][<span style=\"color: #00af00; text-decoration-color: #00af00\">0</span>] │\n",
       "├─────────────────────┼───────────────────┼────────────┼───────────────────┤\n",
       "│ any (<span style=\"color: #0087ff; text-decoration-color: #0087ff\">Any</span>)           │ (<span style=\"color: #00d7ff; text-decoration-color: #00d7ff\">None</span>, <span style=\"color: #00af00; text-decoration-color: #00af00\">200</span>)       │          <span style=\"color: #00af00; text-decoration-color: #00af00\">0</span> │ not_equal[<span style=\"color: #00af00; text-decoration-color: #00af00\">0</span>][<span style=\"color: #00af00; text-decoration-color: #00af00\">0</span>]   │\n",
       "├─────────────────────┼───────────────────┼────────────┼───────────────────┤\n",
       "│ lstm (<span style=\"color: #0087ff; text-decoration-color: #0087ff\">LSTM</span>)         │ (<span style=\"color: #00d7ff; text-decoration-color: #00d7ff\">None</span>, <span style=\"color: #00af00; text-decoration-color: #00af00\">200</span>, <span style=\"color: #00af00; text-decoration-color: #00af00\">256</span>)  │    <span style=\"color: #00af00; text-decoration-color: #00af00\">266,240</span> │ masking[<span style=\"color: #00af00; text-decoration-color: #00af00\">0</span>][<span style=\"color: #00af00; text-decoration-color: #00af00\">0</span>],    │\n",
       "│                     │                   │            │ any[<span style=\"color: #00af00; text-decoration-color: #00af00\">0</span>][<span style=\"color: #00af00; text-decoration-color: #00af00\">0</span>]         │\n",
       "├─────────────────────┼───────────────────┼────────────┼───────────────────┤\n",
       "│ lstm_1 (<span style=\"color: #0087ff; text-decoration-color: #0087ff\">LSTM</span>)       │ (<span style=\"color: #00d7ff; text-decoration-color: #00d7ff\">None</span>, <span style=\"color: #00af00; text-decoration-color: #00af00\">256</span>)       │    <span style=\"color: #00af00; text-decoration-color: #00af00\">525,312</span> │ lstm[<span style=\"color: #00af00; text-decoration-color: #00af00\">0</span>][<span style=\"color: #00af00; text-decoration-color: #00af00\">0</span>],       │\n",
       "│                     │                   │            │ any[<span style=\"color: #00af00; text-decoration-color: #00af00\">0</span>][<span style=\"color: #00af00; text-decoration-color: #00af00\">0</span>]         │\n",
       "├─────────────────────┼───────────────────┼────────────┼───────────────────┤\n",
       "│ dense (<span style=\"color: #0087ff; text-decoration-color: #0087ff\">Dense</span>)       │ (<span style=\"color: #00d7ff; text-decoration-color: #00d7ff\">None</span>, <span style=\"color: #00af00; text-decoration-color: #00af00\">59603</span>)     │ <span style=\"color: #00af00; text-decoration-color: #00af00\">15,317,971</span> │ lstm_1[<span style=\"color: #00af00; text-decoration-color: #00af00\">0</span>][<span style=\"color: #00af00; text-decoration-color: #00af00\">0</span>]      │\n",
       "└─────────────────────┴───────────────────┴────────────┴───────────────────┘\n",
       "</pre>\n"
      ],
      "text/plain": [
       "┏━━━━━━━━━━━━━━━━━━━━━┳━━━━━━━━━━━━━━━━━━━┳━━━━━━━━━━━━┳━━━━━━━━━━━━━━━━━━━┓\n",
       "┃\u001b[1m \u001b[0m\u001b[1mLayer (type)       \u001b[0m\u001b[1m \u001b[0m┃\u001b[1m \u001b[0m\u001b[1mOutput Shape     \u001b[0m\u001b[1m \u001b[0m┃\u001b[1m \u001b[0m\u001b[1m   Param #\u001b[0m\u001b[1m \u001b[0m┃\u001b[1m \u001b[0m\u001b[1mConnected to     \u001b[0m\u001b[1m \u001b[0m┃\n",
       "┡━━━━━━━━━━━━━━━━━━━━━╇━━━━━━━━━━━━━━━━━━━╇━━━━━━━━━━━━╇━━━━━━━━━━━━━━━━━━━┩\n",
       "│ input_layer         │ (\u001b[38;5;45mNone\u001b[0m, \u001b[38;5;34m200\u001b[0m, \u001b[38;5;34m3\u001b[0m)    │          \u001b[38;5;34m0\u001b[0m │ -                 │\n",
       "│ (\u001b[38;5;33mInputLayer\u001b[0m)        │                   │            │                   │\n",
       "├─────────────────────┼───────────────────┼────────────┼───────────────────┤\n",
       "│ not_equal           │ (\u001b[38;5;45mNone\u001b[0m, \u001b[38;5;34m200\u001b[0m, \u001b[38;5;34m3\u001b[0m)    │          \u001b[38;5;34m0\u001b[0m │ input_layer[\u001b[38;5;34m0\u001b[0m][\u001b[38;5;34m0\u001b[0m] │\n",
       "│ (\u001b[38;5;33mNotEqual\u001b[0m)          │                   │            │                   │\n",
       "├─────────────────────┼───────────────────┼────────────┼───────────────────┤\n",
       "│ masking (\u001b[38;5;33mMasking\u001b[0m)   │ (\u001b[38;5;45mNone\u001b[0m, \u001b[38;5;34m200\u001b[0m, \u001b[38;5;34m3\u001b[0m)    │          \u001b[38;5;34m0\u001b[0m │ input_layer[\u001b[38;5;34m0\u001b[0m][\u001b[38;5;34m0\u001b[0m] │\n",
       "├─────────────────────┼───────────────────┼────────────┼───────────────────┤\n",
       "│ any (\u001b[38;5;33mAny\u001b[0m)           │ (\u001b[38;5;45mNone\u001b[0m, \u001b[38;5;34m200\u001b[0m)       │          \u001b[38;5;34m0\u001b[0m │ not_equal[\u001b[38;5;34m0\u001b[0m][\u001b[38;5;34m0\u001b[0m]   │\n",
       "├─────────────────────┼───────────────────┼────────────┼───────────────────┤\n",
       "│ lstm (\u001b[38;5;33mLSTM\u001b[0m)         │ (\u001b[38;5;45mNone\u001b[0m, \u001b[38;5;34m200\u001b[0m, \u001b[38;5;34m256\u001b[0m)  │    \u001b[38;5;34m266,240\u001b[0m │ masking[\u001b[38;5;34m0\u001b[0m][\u001b[38;5;34m0\u001b[0m],    │\n",
       "│                     │                   │            │ any[\u001b[38;5;34m0\u001b[0m][\u001b[38;5;34m0\u001b[0m]         │\n",
       "├─────────────────────┼───────────────────┼────────────┼───────────────────┤\n",
       "│ lstm_1 (\u001b[38;5;33mLSTM\u001b[0m)       │ (\u001b[38;5;45mNone\u001b[0m, \u001b[38;5;34m256\u001b[0m)       │    \u001b[38;5;34m525,312\u001b[0m │ lstm[\u001b[38;5;34m0\u001b[0m][\u001b[38;5;34m0\u001b[0m],       │\n",
       "│                     │                   │            │ any[\u001b[38;5;34m0\u001b[0m][\u001b[38;5;34m0\u001b[0m]         │\n",
       "├─────────────────────┼───────────────────┼────────────┼───────────────────┤\n",
       "│ dense (\u001b[38;5;33mDense\u001b[0m)       │ (\u001b[38;5;45mNone\u001b[0m, \u001b[38;5;34m59603\u001b[0m)     │ \u001b[38;5;34m15,317,971\u001b[0m │ lstm_1[\u001b[38;5;34m0\u001b[0m][\u001b[38;5;34m0\u001b[0m]      │\n",
       "└─────────────────────┴───────────────────┴────────────┴───────────────────┘\n"
      ]
     },
     "metadata": {},
     "output_type": "display_data"
    },
    {
     "data": {
      "text/html": [
       "<pre style=\"white-space:pre;overflow-x:auto;line-height:normal;font-family:Menlo,'DejaVu Sans Mono',consolas,'Courier New',monospace\"><span style=\"font-weight: bold\"> Total params: </span><span style=\"color: #00af00; text-decoration-color: #00af00\">16,109,523</span> (61.45 MB)\n",
       "</pre>\n"
      ],
      "text/plain": [
       "\u001b[1m Total params: \u001b[0m\u001b[38;5;34m16,109,523\u001b[0m (61.45 MB)\n"
      ]
     },
     "metadata": {},
     "output_type": "display_data"
    },
    {
     "data": {
      "text/html": [
       "<pre style=\"white-space:pre;overflow-x:auto;line-height:normal;font-family:Menlo,'DejaVu Sans Mono',consolas,'Courier New',monospace\"><span style=\"font-weight: bold\"> Trainable params: </span><span style=\"color: #00af00; text-decoration-color: #00af00\">16,109,523</span> (61.45 MB)\n",
       "</pre>\n"
      ],
      "text/plain": [
       "\u001b[1m Trainable params: \u001b[0m\u001b[38;5;34m16,109,523\u001b[0m (61.45 MB)\n"
      ]
     },
     "metadata": {},
     "output_type": "display_data"
    },
    {
     "data": {
      "text/html": [
       "<pre style=\"white-space:pre;overflow-x:auto;line-height:normal;font-family:Menlo,'DejaVu Sans Mono',consolas,'Courier New',monospace\"><span style=\"font-weight: bold\"> Non-trainable params: </span><span style=\"color: #00af00; text-decoration-color: #00af00\">0</span> (0.00 B)\n",
       "</pre>\n"
      ],
      "text/plain": [
       "\u001b[1m Non-trainable params: \u001b[0m\u001b[38;5;34m0\u001b[0m (0.00 B)\n"
      ]
     },
     "metadata": {},
     "output_type": "display_data"
    },
    {
     "name": "stdout",
     "output_type": "stream",
     "text": [
      "Epoch 1/5\n",
      "\u001b[1m3592/3592\u001b[0m \u001b[32m━━━━━━━━━━━━━━━━━━━━\u001b[0m\u001b[37m\u001b[0m \u001b[1m3449s\u001b[0m 959ms/step - accuracy: 0.0168 - loss: 10.0684 - val_accuracy: 0.0226 - val_loss: 10.6059\n",
      "Epoch 2/5\n",
      "\u001b[1m3592/3592\u001b[0m \u001b[32m━━━━━━━━━━━━━━━━━━━━\u001b[0m\u001b[37m\u001b[0m \u001b[1m3253s\u001b[0m 906ms/step - accuracy: 0.0180 - loss: 9.6168 - val_accuracy: 0.0230 - val_loss: 11.0873\n",
      "Epoch 3/5\n",
      "\u001b[1m3592/3592\u001b[0m \u001b[32m━━━━━━━━━━━━━━━━━━━━\u001b[0m\u001b[37m\u001b[0m \u001b[1m3388s\u001b[0m 943ms/step - accuracy: 0.0221 - loss: 9.2702 - val_accuracy: 0.0249 - val_loss: 11.2937\n",
      "Epoch 4/5\n",
      "\u001b[1m3592/3592\u001b[0m \u001b[32m━━━━━━━━━━━━━━━━━━━━\u001b[0m\u001b[37m\u001b[0m \u001b[1m3251s\u001b[0m 905ms/step - accuracy: 0.0268 - loss: 8.6483 - val_accuracy: 0.0308 - val_loss: 11.4968\n",
      "Epoch 5/5\n",
      "\u001b[1m3592/3592\u001b[0m \u001b[32m━━━━━━━━━━━━━━━━━━━━\u001b[0m\u001b[37m\u001b[0m \u001b[1m3815s\u001b[0m 1s/step - accuracy: 0.0340 - loss: 7.9656 - val_accuracy: 0.0392 - val_loss: 11.4690\n"
     ]
    }
   ],
   "source": [
    "import tensorflow as tf\n",
    "from tensorflow.keras.models import Model\n",
    "from tensorflow.keras.layers import Input, LSTM, Dense, Embedding, TimeDistributed, Masking\n",
    "from tensorflow.keras.optimizers import Adam\n",
    "import numpy as np\n",
    "\n",
    "# -------------------------------\n",
    "# 1. Prepare Input Data\n",
    "# -------------------------------\n",
    "# Convert traces into sequences of (dx, dy, pen_state)\n",
    "def prepare_stroke_sequences(traces, max_len=200):\n",
    "    sequences = []\n",
    "    for sample in traces:\n",
    "        seq = []\n",
    "        for trace in sample:\n",
    "            for i in range(1, len(trace)):\n",
    "                dx = trace[i][0] - trace[i-1][0]\n",
    "                dy = trace[i][1] - trace[i-1][1]\n",
    "                pen_state = 1 if i == len(trace)-1 else 0  # pen-up at end of stroke\n",
    "                seq.append([dx, dy, pen_state])\n",
    "        seq = np.array(seq)\n",
    "        if len(seq) > max_len:\n",
    "            seq = seq[:max_len]\n",
    "        else:\n",
    "            pad = np.zeros((max_len - len(seq), 3))\n",
    "            seq = np.vstack([seq, pad])\n",
    "        sequences.append(seq)\n",
    "    return np.array(sequences, dtype=np.float32)\n",
    "\n",
    "# Example conversion\n",
    "X_train = prepare_stroke_sequences(train_data, max_len=200)\n",
    "X_valid = prepare_stroke_sequences(valid_data, max_len=200)\n",
    "\n",
    "y_train = train_sequences   # already tokenized and padded\n",
    "y_valid = valid_sequences\n",
    "\n",
    "print(\"Input shape:\", X_train.shape)\n",
    "print(\"Output shape:\", y_train.shape)\n",
    "\n",
    "# -------------------------------\n",
    "# 2. Build Seq2Seq Model\n",
    "# -------------------------------\n",
    "max_seq_len = y_train.shape[1]   # max length of LaTeX tokens\n",
    "vocab_size = len(tokenizer.word_index) + 1  # +1 for padding\n",
    "\n",
    "inputs = Input(shape=(200, 3))   # 200 timesteps, (dx, dy, pen_state)\n",
    "x = Masking(mask_value=0.0)(inputs)\n",
    "x = LSTM(256, return_sequences=True)(x)\n",
    "x = LSTM(256)(x)\n",
    "\n",
    "# Output: LaTeX tokens\n",
    "outputs = Dense(vocab_size, activation=\"softmax\")(x)\n",
    "\n",
    "model = Model(inputs, outputs)\n",
    "model.compile(optimizer=Adam(1e-3), loss=\"sparse_categorical_crossentropy\", metrics=[\"accuracy\"])\n",
    "\n",
    "model.summary()\n",
    "\n",
    "# -------------------------------\n",
    "# 3. Training\n",
    "# -------------------------------\n",
    "# Since we're predicting the whole sequence, we shift y to categorical\n",
    "y_train_cls = y_train[:, 0]   # predict only first token (baseline simplification)\n",
    "y_valid_cls = y_valid[:, 0]\n",
    "\n",
    "history = model.fit(\n",
    "    X_train, y_train_cls,\n",
    "    validation_data=(X_valid, y_valid_cls),\n",
    "    batch_size=64,\n",
    "    epochs=5\n",
    ")\n"
   ]
  }
 ],
 "metadata": {
  "kernelspec": {
   "display_name": "venv",
   "language": "python",
   "name": "python3"
  },
  "language_info": {
   "codemirror_mode": {
    "name": "ipython",
    "version": 3
   },
   "file_extension": ".py",
   "mimetype": "text/x-python",
   "name": "python",
   "nbconvert_exporter": "python",
   "pygments_lexer": "ipython3",
   "version": "3.10.11"
  }
 },
 "nbformat": 4,
 "nbformat_minor": 5
}
